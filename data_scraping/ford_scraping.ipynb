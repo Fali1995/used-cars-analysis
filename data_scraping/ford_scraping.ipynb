{
 "cells": [
  {
   "cell_type": "code",
   "execution_count": 32,
   "metadata": {},
   "outputs": [],
   "source": [
    "import requests\n",
    "from bs4 import BeautifulSoup as bs\n",
    "import pandas as pd\n",
    "import  numpy as np"
   ]
  },
  {
   "cell_type": "code",
   "execution_count": 43,
   "metadata": {},
   "outputs": [],
   "source": [
    "car_urls = []\n",
    "for page in range(1,51):\n",
    "    url = f'https://www.cars.com/for-sale/searchresults.action/?bsId=20211&dealerType=all&mkId=20015&page={page}&perPage=100&rd=99999&searchSource=GN_REFINEMENT&sort=relevance&stkTypId=28881&yrId=27381,34923,39723,47272,51683,56007,58487,30031936,35797618,36362520,36620293&zc=92835'\n",
    "    \n",
    "    response = requests.get(url)\n",
    "    soup = bs(response.text, 'html.parser')\n",
    "    \n",
    "    car_links = soup.find_all('a', class_=\"shop-srp-listings__listing\")\n",
    "\n",
    "    for link in car_links:\n",
    "        car_urls.append(f'https://www.cars.com{link[\"href\"]}')"
   ]
  },
  {
   "cell_type": "code",
   "execution_count": 44,
   "metadata": {},
   "outputs": [
    {
     "data": {
      "text/plain": [
       "5000"
      ]
     },
     "execution_count": 44,
     "metadata": {},
     "output_type": "execute_result"
    }
   ],
   "source": [
    "len(car_urls)"
   ]
  },
  {
   "cell_type": "code",
   "execution_count": 50,
   "metadata": {},
   "outputs": [
    {
     "data": {
      "text/plain": [
       "5000"
      ]
     },
     "execution_count": 50,
     "metadata": {},
     "output_type": "execute_result"
    }
   ],
   "source": [
    "s = pd.Series(car_urls)\n",
    "s.nunique()"
   ]
  },
  {
   "cell_type": "code",
   "execution_count": 78,
   "metadata": {},
   "outputs": [],
   "source": [
    "car_data = {'title':[], 'mileage':[], 'exterior_color':[], 'interior_color':[], 'fuel_type':[],'engine':[], 'transmission':[], \\\n",
    "            'city_mpg':[], 'hwy_mpg':[]}\n",
    "\n",
    "for car_url in car_urls:\n",
    "    car_response = requests.get(car_url)\n",
    "\n",
    "    car_soup = bs(car_response.text, 'html.parser')\n",
    "\n",
    "    title = np.NAN\n",
    "    mileage = np.NAN\n",
    "    exterior = np.NAN\n",
    "    interior = np.NAN\n",
    "    fuel = np.NAN\n",
    "    engine = np.NAN\n",
    "    transmission = np.NAN\n",
    "    city = np.NAN\n",
    "    hwy = np.NAN\n",
    "    \n",
    "    if car_soup.find('h1', class_=\"vehicle-info__title\"):\n",
    "        title= car_soup.find('h1', class_=\"vehicle-info__title\").text.strip()\n",
    "\n",
    "    car_details = car_soup.find_all(\"li\", class_=\"vdp-details-basics__item\")\n",
    "\n",
    "    for detail in car_details:\n",
    "        detail_text = detail.text.strip().split(': ')\n",
    "\n",
    "        if detail_text[0] == \"Fuel Type\":\n",
    "            fuel =  detail_text[1]\n",
    "\n",
    "        elif detail_text[0] == \"City MPG\":\n",
    "            city = detail_text[1]\n",
    "\n",
    "        elif detail_text[0] == \"Highway MPG\":\n",
    "            hwy = detail_text[1]\n",
    "\n",
    "        elif detail_text[0] == \"Engine\":\n",
    "            engine = detail_text[1]\n",
    "\n",
    "        elif detail_text[0] == \"Mileage\":\n",
    "            mileage = detail_text[1]\n",
    "\n",
    "        elif detail_text[0] == \"Transmission\":\n",
    "            transmission = detail_text[1]\n",
    "\n",
    "        elif detail_text[0] == \"Exterior Color\":\n",
    "            exterior = detail_text[1]\n",
    "\n",
    "        elif detail_text[0] == \"Interior Color\":\n",
    "            interior = detail_text[1]\n",
    "\n",
    "    car_data['title'].append(title) \n",
    "    car_data['mileage'].append(mileage) \n",
    "    car_data['exterior_color'].append(exterior)\n",
    "    car_data['interior_color'].append(interior) \n",
    "    car_data['fuel_type'].append(fuel) \n",
    "    car_data['engine'].append(engine) \n",
    "    car_data['transmission'].append(transmission) \n",
    "    car_data['city_mpg'].append(city) \n",
    "    car_data['hwy_mpg'].append(hwy) "
   ]
  },
  {
   "cell_type": "code",
   "execution_count": 169,
   "metadata": {},
   "outputs": [],
   "source": [
    "df = pd.DataFrame(car_data)"
   ]
  },
  {
   "cell_type": "code",
   "execution_count": 170,
   "metadata": {},
   "outputs": [
    {
     "data": {
      "text/plain": [
       "title             4998\n",
       "mileage           4998\n",
       "exterior_color    4921\n",
       "interior_color    4170\n",
       "fuel_type         4998\n",
       "engine            4979\n",
       "transmission      4884\n",
       "city_mpg          4820\n",
       "hwy_mpg           4820\n",
       "dtype: int64"
      ]
     },
     "execution_count": 170,
     "metadata": {},
     "output_type": "execute_result"
    }
   ],
   "source": [
    "df.count()"
   ]
  },
  {
   "cell_type": "code",
   "execution_count": 171,
   "metadata": {},
   "outputs": [
    {
     "data": {
      "text/plain": [
       "4998"
      ]
     },
     "execution_count": 171,
     "metadata": {},
     "output_type": "execute_result"
    }
   ],
   "source": [
    "df = df.dropna(subset=['title'])\n",
    "len(df)"
   ]
  },
  {
   "cell_type": "code",
   "execution_count": 172,
   "metadata": {},
   "outputs": [],
   "source": [
    "df[\"brand\"] = \"Ford\"\n",
    "df[\"model\"] = df[\"title\"].map(lambda x: x.split('Ford ')[1])\n",
    "df[\"year\"] = df[\"title\"].map(lambda x: x.replace('Certified ', '')[:4])\n",
    "\n",
    "df = df.drop('title', 1)\n",
    "\n",
    "df = df[['brand', 'model','year', 'mileage', 'exterior_color', 'interior_color', 'fuel_type',\n",
    "       'engine', 'transmission', 'city_mpg', 'hwy_mpg']]"
   ]
  },
  {
   "cell_type": "code",
   "execution_count": 173,
   "metadata": {},
   "outputs": [],
   "source": [
    "df['mileage'] = df['mileage'].map(lambda x: x.replace(',',''))\n",
    "df['mileage'] = df['mileage'].replace('Not provided',np.NAN)\n",
    "df['mileage'] = pd.to_numeric(df['mileage'])"
   ]
  },
  {
   "cell_type": "code",
   "execution_count": 174,
   "metadata": {},
   "outputs": [
    {
     "data": {
      "text/plain": [
       "array(['2010', '2014', '2015', '2018', '2017', '2013', '2016', '2012',\n",
       "       '2011', '2019'], dtype=object)"
      ]
     },
     "execution_count": 174,
     "metadata": {},
     "output_type": "execute_result"
    }
   ],
   "source": [
    "df['year'].unique()"
   ]
  },
  {
   "cell_type": "code",
   "execution_count": 177,
   "metadata": {},
   "outputs": [
    {
     "data": {
      "text/plain": [
       "Fusion SE                          1610\n",
       "Taurus SEL                          461\n",
       "Taurus Limited                      444\n",
       "Focus SE                            405\n",
       "Fusion Hybrid SE                    375\n",
       "Fusion Titanium                     361\n",
       "Fusion S                            176\n",
       "Taurus SHO                          172\n",
       "Fusion Energi SE Luxury             126\n",
       "Fusion Hybrid Titanium              125\n",
       "Taurus SE                           109\n",
       "Fusion Energi Titanium               99\n",
       "Fusion SEL                           91\n",
       "Fusion Sport                         90\n",
       "Fiesta SE                            58\n",
       "Focus S                              56\n",
       "Focus Titanium                       41\n",
       "Focus SEL                            40\n",
       "Fusion Platinum                      23\n",
       "Fiesta S                             18\n",
       "Fusion Hybrid S                      17\n",
       "Fusion Hybrid Base                   13\n",
       "Fusion Hybrid SEL                    11\n",
       "Fusion Hybrid                        10\n",
       "Fusion Energi Platinum                9\n",
       "Fusion Hybrid Platinum                9\n",
       "Fusion TITANIUM                       7\n",
       "Fusion Energi SE                      6\n",
       "Fusion                                5\n",
       "Fusion SPORT                          5\n",
       "Fusion Hybrid SE Hybrid               4\n",
       "Fusion Energi TITANIUM                3\n",
       "Fusion Hybrid UNDEFINED               3\n",
       "Focus SES                             3\n",
       "Fiesta Titanium                       2\n",
       "Sedan Police Interceptor Base         2\n",
       "Taurus LIMITED                        2\n",
       "Fusion Energi SE LUXURY               2\n",
       "Fiesta SEL                            2\n",
       "Fusion Titanium AWD                   1\n",
       "Taurus Limited - POWER MOONROOF       1\n",
       "Fusion Energi PLATINUM                1\n",
       "Name: model, dtype: int64"
      ]
     },
     "execution_count": 177,
     "metadata": {},
     "output_type": "execute_result"
    }
   ],
   "source": [
    "df[\"model\"].value_counts()"
   ]
  },
  {
   "cell_type": "code",
   "execution_count": 179,
   "metadata": {},
   "outputs": [],
   "source": [
    "df.to_csv(\"../data/ford.csv\", index=False)"
   ]
  },
  {
   "cell_type": "code",
   "execution_count": 180,
   "metadata": {},
   "outputs": [
    {
     "data": {
      "text/html": [
       "<div>\n",
       "<style scoped>\n",
       "    .dataframe tbody tr th:only-of-type {\n",
       "        vertical-align: middle;\n",
       "    }\n",
       "\n",
       "    .dataframe tbody tr th {\n",
       "        vertical-align: top;\n",
       "    }\n",
       "\n",
       "    .dataframe thead th {\n",
       "        text-align: right;\n",
       "    }\n",
       "</style>\n",
       "<table border=\"1\" class=\"dataframe\">\n",
       "  <thead>\n",
       "    <tr style=\"text-align: right;\">\n",
       "      <th></th>\n",
       "      <th>brand</th>\n",
       "      <th>model</th>\n",
       "      <th>year</th>\n",
       "      <th>mileage</th>\n",
       "      <th>exterior_color</th>\n",
       "      <th>interior_color</th>\n",
       "      <th>fuel_type</th>\n",
       "      <th>engine</th>\n",
       "      <th>transmission</th>\n",
       "      <th>city_mpg</th>\n",
       "      <th>hwy_mpg</th>\n",
       "    </tr>\n",
       "  </thead>\n",
       "  <tbody>\n",
       "    <tr>\n",
       "      <th>0</th>\n",
       "      <td>Ford</td>\n",
       "      <td>Fusion SE</td>\n",
       "      <td>2010</td>\n",
       "      <td>153715.0</td>\n",
       "      <td>Tuxedo Black Metallic</td>\n",
       "      <td>Charcoal Black</td>\n",
       "      <td>E85 Flex Fuel</td>\n",
       "      <td>Gas/Ethanol V6 3.0L/181</td>\n",
       "      <td>6-Speed A/T</td>\n",
       "      <td>22.0</td>\n",
       "      <td>29.0</td>\n",
       "    </tr>\n",
       "    <tr>\n",
       "      <th>1</th>\n",
       "      <td>Ford</td>\n",
       "      <td>Fusion Hybrid SE</td>\n",
       "      <td>2014</td>\n",
       "      <td>56446.0</td>\n",
       "      <td>Ruby Red Metallic Tinted Clearcoat</td>\n",
       "      <td>Dune</td>\n",
       "      <td>Hybrid</td>\n",
       "      <td>2.0L I4 16V MPFI DOHC Hybrid</td>\n",
       "      <td>Automatic CVT</td>\n",
       "      <td>44.0</td>\n",
       "      <td>41.0</td>\n",
       "    </tr>\n",
       "    <tr>\n",
       "      <th>2</th>\n",
       "      <td>Ford</td>\n",
       "      <td>Fusion SE</td>\n",
       "      <td>2015</td>\n",
       "      <td>65942.0</td>\n",
       "      <td>Magnetic</td>\n",
       "      <td>Ebony</td>\n",
       "      <td>Gasoline</td>\n",
       "      <td>2.5L I4 16V MPFI DOHC</td>\n",
       "      <td>6-Speed Automatic</td>\n",
       "      <td>22.0</td>\n",
       "      <td>31.0</td>\n",
       "    </tr>\n",
       "    <tr>\n",
       "      <th>3</th>\n",
       "      <td>Ford</td>\n",
       "      <td>Taurus SE</td>\n",
       "      <td>2018</td>\n",
       "      <td>2269.0</td>\n",
       "      <td>White Gold Metallic</td>\n",
       "      <td>Dune</td>\n",
       "      <td>E85 Flex Fuel</td>\n",
       "      <td>3.5L V6 24V MPFI DOHC Flexible Fuel</td>\n",
       "      <td>6-Speed Automatic</td>\n",
       "      <td>18.0</td>\n",
       "      <td>27.0</td>\n",
       "    </tr>\n",
       "    <tr>\n",
       "      <th>4</th>\n",
       "      <td>Ford</td>\n",
       "      <td>Fusion Titanium</td>\n",
       "      <td>2017</td>\n",
       "      <td>19642.0</td>\n",
       "      <td>Shadow Black</td>\n",
       "      <td>Ebony</td>\n",
       "      <td>Gasoline</td>\n",
       "      <td>2.0L I4 16V GDI DOHC Turbo</td>\n",
       "      <td>6-Speed Automatic</td>\n",
       "      <td>20.0</td>\n",
       "      <td>29.0</td>\n",
       "    </tr>\n",
       "  </tbody>\n",
       "</table>\n",
       "</div>"
      ],
      "text/plain": [
       "  brand             model  year   mileage                      exterior_color  \\\n",
       "0  Ford         Fusion SE  2010  153715.0               Tuxedo Black Metallic   \n",
       "1  Ford  Fusion Hybrid SE  2014   56446.0  Ruby Red Metallic Tinted Clearcoat   \n",
       "2  Ford         Fusion SE  2015   65942.0                            Magnetic   \n",
       "3  Ford         Taurus SE  2018    2269.0                 White Gold Metallic   \n",
       "4  Ford   Fusion Titanium  2017   19642.0                        Shadow Black   \n",
       "\n",
       "   interior_color      fuel_type                               engine  \\\n",
       "0  Charcoal Black  E85 Flex Fuel              Gas/Ethanol V6 3.0L/181   \n",
       "1            Dune         Hybrid         2.0L I4 16V MPFI DOHC Hybrid   \n",
       "2           Ebony       Gasoline                2.5L I4 16V MPFI DOHC   \n",
       "3            Dune  E85 Flex Fuel  3.5L V6 24V MPFI DOHC Flexible Fuel   \n",
       "4           Ebony       Gasoline           2.0L I4 16V GDI DOHC Turbo   \n",
       "\n",
       "        transmission  city_mpg  hwy_mpg  \n",
       "0        6-Speed A/T      22.0     29.0  \n",
       "1      Automatic CVT      44.0     41.0  \n",
       "2  6-Speed Automatic      22.0     31.0  \n",
       "3  6-Speed Automatic      18.0     27.0  \n",
       "4  6-Speed Automatic      20.0     29.0  "
      ]
     },
     "execution_count": 180,
     "metadata": {},
     "output_type": "execute_result"
    }
   ],
   "source": [
    "df_test = pd.read_csv(\"../data/ford.csv\")\n",
    "df_test.head()"
   ]
  },
  {
   "cell_type": "code",
   "execution_count": null,
   "metadata": {},
   "outputs": [],
   "source": []
  }
 ],
 "metadata": {
  "kernelspec": {
   "display_name": "Python 3",
   "language": "python",
   "name": "python3"
  },
  "language_info": {
   "codemirror_mode": {
    "name": "ipython",
    "version": 3
   },
   "file_extension": ".py",
   "mimetype": "text/x-python",
   "name": "python",
   "nbconvert_exporter": "python",
   "pygments_lexer": "ipython3",
   "version": "3.7.3"
  }
 },
 "nbformat": 4,
 "nbformat_minor": 2
}
