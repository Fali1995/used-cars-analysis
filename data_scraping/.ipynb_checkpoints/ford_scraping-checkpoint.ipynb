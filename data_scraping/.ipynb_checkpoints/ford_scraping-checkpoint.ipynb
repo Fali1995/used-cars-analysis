{
 "cells": [
  {
   "cell_type": "code",
   "execution_count": 26,
   "metadata": {},
   "outputs": [],
   "source": [
    "import requests\n",
    "from bs4 import BeautifulSoup as bs\n",
    "import pandas as pd"
   ]
  },
  {
   "cell_type": "code",
   "execution_count": 31,
   "metadata": {},
   "outputs": [],
   "source": [
    "car_urls = []\n",
    "for page in range(1,51):\n",
    "    url = f'https://www.cars.com/for-sale/searchresults.action/?bsId=20211&dealerType=all&mkId=20015&page={page}&perPage=100&rd=99999&searchSource=GN_REFINEMENT&sort=relevance&stkTypId=28881&yrId=27381,34923,39723,47272,51683,56007,58487,30031936,35797618,36362520,36620293&zc=92835'\n",
    "    \n",
    "    response = requests.get(url)\n",
    "    soup = bs(response.text, 'html.parser')\n",
    "    \n",
    "    car_links = soup.find_all('a', class_=\"shop-srp-listings__listing\")\n",
    "\n",
    "    for link in car_links:\n",
    "        car_urls.append(f'https://www.cars.com{link[\"href\"]}')"
   ]
  },
  {
   "cell_type": "code",
   "execution_count": 54,
   "metadata": {},
   "outputs": [
    {
     "data": {
      "text/plain": [
       "5000"
      ]
     },
     "execution_count": 54,
     "metadata": {},
     "output_type": "execute_result"
    }
   ],
   "source": [
    "len(car_urls)"
   ]
  },
  {
   "cell_type": "code",
   "execution_count": 29,
   "metadata": {},
   "outputs": [],
   "source": [
    "df = pd.DataFrame({\"url\":car_urls})"
   ]
  },
  {
   "cell_type": "code",
   "execution_count": 30,
   "metadata": {},
   "outputs": [
    {
     "data": {
      "text/plain": [
       "5000"
      ]
     },
     "execution_count": 30,
     "metadata": {},
     "output_type": "execute_result"
    }
   ],
   "source": [
    "df['url'].nunique()"
   ]
  },
  {
   "cell_type": "code",
   "execution_count": 53,
   "metadata": {},
   "outputs": [
    {
     "data": {
      "text/plain": [
       "{'title': ['2016 Ford Fusion Titanium'],\n",
       " 'mileage': ['30,510'],\n",
       " 'exterior_color': ['Ingot Silver'],\n",
       " 'interior_color': ['Charcoal Black'],\n",
       " 'fuel_type': ['Gasoline'],\n",
       " 'engine': ['2.0 L'],\n",
       " 'transmission': ['Automatic'],\n",
       " 'city_mpg': ['22'],\n",
       " 'hwy_mpg': ['33']}"
      ]
     },
     "execution_count": 53,
     "metadata": {},
     "output_type": "execute_result"
    }
   ],
   "source": [
    "car_data = {'title':[], 'mileage':[], 'exterior_color':[], 'interior_color':[], 'fuel_type':[],'engine':[], 'transmission':[], \\\n",
    "            'city_mpg':[], 'hwy_mpg':[]}\n",
    "\n",
    "car_url = car_urls[66]\n",
    "\n",
    "car_response = requests.get(car_url)\n",
    "\n",
    "car_soup = bs(car_response.text, 'html.parser')\n",
    "\n",
    "title = \"\"\n",
    "mileage = \"\"\n",
    "exterior = \"\"\n",
    "interior = \"\"\n",
    "fuel = \"\"\n",
    "engine = \"\"\n",
    "transmission = \"\"\n",
    "city = \"\"\n",
    "hwy = \"\"\n",
    "\n",
    "title= car_soup.find('h1', class_=\"vehicle-info__title\").text.strip()\n",
    "\n",
    "car_details = car_soup.find_all(\"li\", class_=\"vdp-details-basics__item\")\n",
    "\n",
    "for detail in car_details:\n",
    "    detail_text = detail.text.strip().split(': ')\n",
    "    \n",
    "    if detail_text[0] == \"Fuel Type\":\n",
    "        fuel =  detail_text[1]\n",
    "        \n",
    "    elif detail_text[0] == \"City MPG\":\n",
    "        city = detail_text[1]\n",
    "        \n",
    "    elif detail_text[0] == \"Highway MPG\":\n",
    "        hwy = detail_text[1]\n",
    "        \n",
    "    elif detail_text[0] == \"Engine\":\n",
    "        engine = detail_text[1]\n",
    "        \n",
    "    elif detail_text[0] == \"Mileage\":\n",
    "        mileage = detail_text[1]\n",
    "        \n",
    "    elif detail_text[0] == \"Transmission\":\n",
    "        transmission = detail_text[1]\n",
    "        \n",
    "    elif detail_text[0] == \"Exterior Color\":\n",
    "        exterior = detail_text[1]\n",
    "        \n",
    "    elif detail_text[0] == \"Interior Color\":\n",
    "        interior = detail_text[1]\n",
    "        \n",
    "car_data['title'].append(title) \n",
    "car_data['mileage'].append(mileage) \n",
    "car_data['exterior_color'].append(exterior)\n",
    "car_data['interior_color'].append(interior) \n",
    "car_data['fuel_type'].append(fuel) \n",
    "car_data['engine'].append(engine) \n",
    "car_data['transmission'].append(transmission) \n",
    "car_data['city_mpg'].append(city) \n",
    "car_data['hwy_mpg'].append(hwy) \n",
    "\n",
    "car_data"
   ]
  },
  {
   "cell_type": "code",
   "execution_count": null,
   "metadata": {},
   "outputs": [],
   "source": []
  }
 ],
 "metadata": {
  "kernelspec": {
   "display_name": "Python 3",
   "language": "python",
   "name": "python3"
  },
  "language_info": {
   "codemirror_mode": {
    "name": "ipython",
    "version": 3
   },
   "file_extension": ".py",
   "mimetype": "text/x-python",
   "name": "python",
   "nbconvert_exporter": "python",
   "pygments_lexer": "ipython3",
   "version": "3.7.3"
  }
 },
 "nbformat": 4,
 "nbformat_minor": 2
}
