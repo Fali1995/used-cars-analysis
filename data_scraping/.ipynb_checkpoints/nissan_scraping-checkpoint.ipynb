{
 "cells": [
  {
   "cell_type": "code",
   "execution_count": 1,
   "metadata": {},
   "outputs": [],
   "source": [
    "import requests\n",
    "from bs4 import BeautifulSoup as bs\n",
    "import pandas as pd\n",
    "import  numpy as np"
   ]
  },
  {
   "cell_type": "code",
   "execution_count": 2,
   "metadata": {},
   "outputs": [],
   "source": [
    "car_urls = []\n",
    "for page in range(1,51):\n",
    "    url = f'https://www.cars.com/for-sale/searchresults.action/?bsId=20211&dealerType=all&mkId=20077&page={page}&perPage=100&rd=250&searchSource=GN_REFINEMENT&sort=distance-nearest&stkTypId=28881&yrId=27381,34923,39723,47272,51683,56007,58487,30031936,35797618,36362520,36620293&zc=92835'\n",
    "    response = requests.get(url)\n",
    "    soup = bs(response.text, 'html.parser')\n",
    "    \n",
    "    car_links = soup.find_all('a', class_=\"shop-srp-listings__listing\")\n",
    "\n",
    "    for link in car_links:\n",
    "        car_urls.append(f'https://www.cars.com{link[\"href\"]}')"
   ]
  },
  {
   "cell_type": "code",
   "execution_count": 5,
   "metadata": {},
   "outputs": [
    {
     "data": {
      "text/plain": [
       "(5000, 5000)"
      ]
     },
     "execution_count": 5,
     "metadata": {},
     "output_type": "execute_result"
    }
   ],
   "source": [
    "s = pd.Series(car_urls)\n",
    "s.nunique(), len(s)"
   ]
  },
  {
   "cell_type": "code",
   "execution_count": 8,
   "metadata": {},
   "outputs": [],
   "source": [
    "car_data = {'title':[], 'price':[], 'mileage':[], 'exterior_color':[], 'interior_color':[], 'fuel_type':[],'engine':[], 'transmission':[], \\\n",
    "            'city_mpg':[], 'hwy_mpg':[]}"
   ]
  },
  {
   "cell_type": "code",
   "execution_count": 44,
   "metadata": {},
   "outputs": [],
   "source": [
    "for car_url in car_urls[4000:5000]:\n",
    "    car_response = requests.get(car_url)\n",
    "\n",
    "    car_soup = bs(car_response.text, 'html.parser')\n",
    "\n",
    "    title = np.NAN\n",
    "    price = np.NAN\n",
    "    mileage = np.NAN\n",
    "    exterior = np.NAN\n",
    "    interior = np.NAN\n",
    "    fuel = np.NAN\n",
    "    engine = np.NAN\n",
    "    transmission = np.NAN\n",
    "    city = np.NAN\n",
    "    hwy = np.NAN\n",
    "    \n",
    "    if car_soup.find('h1', class_=\"vehicle-info__title\"):\n",
    "        title= car_soup.find('h1', class_=\"vehicle-info__title\").text.strip()\n",
    "        \n",
    "    if car_soup.find('div', class_=\"vehicle-info__price\"):\n",
    "        price = car_soup.find('div', class_=\"vehicle-info__price\").text.strip()\\\n",
    "            .replace('$','').replace(',','')\n",
    "        \n",
    "    car_details = car_soup.find_all(\"li\", class_=\"vdp-details-basics__item\")\n",
    "\n",
    "    for detail in car_details:\n",
    "        detail_text = detail.text.strip().split(': ')\n",
    "\n",
    "        if detail_text[0] == \"Fuel Type\":\n",
    "            fuel =  detail_text[1]\n",
    "\n",
    "        elif detail_text[0] == \"City MPG\":\n",
    "            city = detail_text[1]\n",
    "\n",
    "        elif detail_text[0] == \"Highway MPG\":\n",
    "            hwy = detail_text[1]\n",
    "\n",
    "        elif detail_text[0] == \"Engine\":\n",
    "            engine = detail_text[1]\n",
    "\n",
    "        elif detail_text[0] == \"Mileage\":\n",
    "            mileage = detail_text[1].replace(',','')\n",
    "\n",
    "        elif detail_text[0] == \"Transmission\":\n",
    "            transmission = detail_text[1]\n",
    "\n",
    "        elif detail_text[0] == \"Exterior Color\":\n",
    "            exterior = detail_text[1]\n",
    "\n",
    "        elif detail_text[0] == \"Interior Color\":\n",
    "            interior = detail_text[1]\n",
    "\n",
    "    car_data['title'].append(title) \n",
    "    car_data['price'].append(price) \n",
    "    car_data['mileage'].append(mileage) \n",
    "    car_data['exterior_color'].append(exterior)\n",
    "    car_data['interior_color'].append(interior) \n",
    "    car_data['fuel_type'].append(fuel) \n",
    "    car_data['engine'].append(engine) \n",
    "    car_data['transmission'].append(transmission) \n",
    "    car_data['city_mpg'].append(city) \n",
    "    car_data['hwy_mpg'].append(hwy)\n",
    "    "
   ]
  },
  {
   "cell_type": "code",
   "execution_count": 45,
   "metadata": {},
   "outputs": [
    {
     "data": {
      "text/plain": [
       "5000"
      ]
     },
     "execution_count": 45,
     "metadata": {},
     "output_type": "execute_result"
    }
   ],
   "source": [
    "len(car_data['title'])"
   ]
  },
  {
   "cell_type": "code",
   "execution_count": 46,
   "metadata": {},
   "outputs": [],
   "source": [
    "df = pd.DataFrame(car_data)"
   ]
  },
  {
   "cell_type": "code",
   "execution_count": 47,
   "metadata": {},
   "outputs": [
    {
     "data": {
      "text/plain": [
       "title             4953\n",
       "price             4953\n",
       "mileage           4953\n",
       "exterior_color    4939\n",
       "interior_color    3162\n",
       "fuel_type         4953\n",
       "engine            4942\n",
       "transmission      4932\n",
       "city_mpg          4914\n",
       "hwy_mpg           4914\n",
       "dtype: int64"
      ]
     },
     "execution_count": 47,
     "metadata": {},
     "output_type": "execute_result"
    }
   ],
   "source": [
    "df.count()"
   ]
  },
  {
   "cell_type": "code",
   "execution_count": 48,
   "metadata": {},
   "outputs": [
    {
     "data": {
      "text/plain": [
       "4953"
      ]
     },
     "execution_count": 48,
     "metadata": {},
     "output_type": "execute_result"
    }
   ],
   "source": [
    "df = df.dropna(subset=['title'])\n",
    "len(df)"
   ]
  },
  {
   "cell_type": "code",
   "execution_count": 49,
   "metadata": {},
   "outputs": [],
   "source": [
    "df[\"brand\"] = \"Nissan\"\n",
    "df[\"model\"] = df[\"title\"].map(lambda x: x.split('Nissan')[1])\n",
    "df[\"year\"] = df[\"title\"].map(lambda x: x.replace('Certified ', '')[:4])\n",
    "\n",
    "df = df.drop('title', 1)\n",
    "\n",
    "df = df[['brand', 'model','year', 'price', 'mileage', 'exterior_color', 'interior_color', 'fuel_type',\n",
    "       'engine', 'transmission', 'city_mpg', 'hwy_mpg']]"
   ]
  },
  {
   "cell_type": "code",
   "execution_count": 50,
   "metadata": {},
   "outputs": [
    {
     "data": {
      "text/plain": [
       "array(['2014', '2016', '2012', '2011', '2010', '2017', '2015', '2018',\n",
       "       '2019', '2013'], dtype=object)"
      ]
     },
     "execution_count": 50,
     "metadata": {},
     "output_type": "execute_result"
    }
   ],
   "source": [
    "df[\"year\"].unique()"
   ]
  },
  {
   "cell_type": "code",
   "execution_count": 51,
   "metadata": {},
   "outputs": [
    {
     "data": {
      "text/html": [
       "<div>\n",
       "<style scoped>\n",
       "    .dataframe tbody tr th:only-of-type {\n",
       "        vertical-align: middle;\n",
       "    }\n",
       "\n",
       "    .dataframe tbody tr th {\n",
       "        vertical-align: top;\n",
       "    }\n",
       "\n",
       "    .dataframe thead th {\n",
       "        text-align: right;\n",
       "    }\n",
       "</style>\n",
       "<table border=\"1\" class=\"dataframe\">\n",
       "  <thead>\n",
       "    <tr style=\"text-align: right;\">\n",
       "      <th></th>\n",
       "      <th>brand</th>\n",
       "      <th>model</th>\n",
       "      <th>year</th>\n",
       "      <th>price</th>\n",
       "      <th>mileage</th>\n",
       "      <th>exterior_color</th>\n",
       "      <th>interior_color</th>\n",
       "      <th>fuel_type</th>\n",
       "      <th>engine</th>\n",
       "      <th>transmission</th>\n",
       "      <th>city_mpg</th>\n",
       "      <th>hwy_mpg</th>\n",
       "    </tr>\n",
       "  </thead>\n",
       "  <tbody>\n",
       "    <tr>\n",
       "      <th>0</th>\n",
       "      <td>Nissan</td>\n",
       "      <td>Altima 2.5 SV</td>\n",
       "      <td>2014</td>\n",
       "      <td>10995</td>\n",
       "      <td>30720</td>\n",
       "      <td>Cayenne Red</td>\n",
       "      <td>Beige</td>\n",
       "      <td>Gasoline</td>\n",
       "      <td>2.5L I4 16V MPFI DOHC</td>\n",
       "      <td>Automatic CVT</td>\n",
       "      <td>27</td>\n",
       "      <td>38</td>\n",
       "    </tr>\n",
       "    <tr>\n",
       "      <th>1</th>\n",
       "      <td>Nissan</td>\n",
       "      <td>Altima 2.5 S</td>\n",
       "      <td>2016</td>\n",
       "      <td>11495</td>\n",
       "      <td>58742</td>\n",
       "      <td>Storm Blue</td>\n",
       "      <td>Beige</td>\n",
       "      <td>Gasoline</td>\n",
       "      <td>2.5L I4 16V MPFI DOHC</td>\n",
       "      <td>Automatic CVT</td>\n",
       "      <td>27</td>\n",
       "      <td>39</td>\n",
       "    </tr>\n",
       "    <tr>\n",
       "      <th>2</th>\n",
       "      <td>Nissan</td>\n",
       "      <td>Altima 2.5</td>\n",
       "      <td>2014</td>\n",
       "      <td>10495</td>\n",
       "      <td>71308</td>\n",
       "      <td>Gun Metallic</td>\n",
       "      <td>Dark Gray</td>\n",
       "      <td>Gasoline</td>\n",
       "      <td>2.5L I4 16V MPFI DOHC</td>\n",
       "      <td>Automatic CVT</td>\n",
       "      <td>NaN</td>\n",
       "      <td>NaN</td>\n",
       "    </tr>\n",
       "    <tr>\n",
       "      <th>3</th>\n",
       "      <td>Nissan</td>\n",
       "      <td>Altima 2.5 S</td>\n",
       "      <td>2012</td>\n",
       "      <td>7495</td>\n",
       "      <td>97159</td>\n",
       "      <td>Winter Frost Pearl</td>\n",
       "      <td>Light Brown</td>\n",
       "      <td>Gasoline</td>\n",
       "      <td>2.5L I4 16V MPFI DOHC</td>\n",
       "      <td>Automatic CVT</td>\n",
       "      <td>23</td>\n",
       "      <td>32</td>\n",
       "    </tr>\n",
       "    <tr>\n",
       "      <th>4</th>\n",
       "      <td>Nissan</td>\n",
       "      <td>Altima 2.5 S</td>\n",
       "      <td>2014</td>\n",
       "      <td>8495</td>\n",
       "      <td>107199</td>\n",
       "      <td>Brilliant Silver</td>\n",
       "      <td>Dark Gray</td>\n",
       "      <td>Gasoline</td>\n",
       "      <td>2.5L I4 16V MPFI DOHC</td>\n",
       "      <td>Automatic CVT</td>\n",
       "      <td>27</td>\n",
       "      <td>38</td>\n",
       "    </tr>\n",
       "  </tbody>\n",
       "</table>\n",
       "</div>"
      ],
      "text/plain": [
       "    brand           model  year  price mileage      exterior_color  \\\n",
       "0  Nissan   Altima 2.5 SV  2014  10995   30720         Cayenne Red   \n",
       "1  Nissan    Altima 2.5 S  2016  11495   58742          Storm Blue   \n",
       "2  Nissan      Altima 2.5  2014  10495   71308        Gun Metallic   \n",
       "3  Nissan    Altima 2.5 S  2012   7495   97159  Winter Frost Pearl   \n",
       "4  Nissan    Altima 2.5 S  2014   8495  107199    Brilliant Silver   \n",
       "\n",
       "  interior_color fuel_type                 engine   transmission city_mpg  \\\n",
       "0          Beige  Gasoline  2.5L I4 16V MPFI DOHC  Automatic CVT       27   \n",
       "1          Beige  Gasoline  2.5L I4 16V MPFI DOHC  Automatic CVT       27   \n",
       "2      Dark Gray  Gasoline  2.5L I4 16V MPFI DOHC  Automatic CVT      NaN   \n",
       "3    Light Brown  Gasoline  2.5L I4 16V MPFI DOHC  Automatic CVT       23   \n",
       "4      Dark Gray  Gasoline  2.5L I4 16V MPFI DOHC  Automatic CVT       27   \n",
       "\n",
       "  hwy_mpg  \n",
       "0      38  \n",
       "1      39  \n",
       "2     NaN  \n",
       "3      32  \n",
       "4      38  "
      ]
     },
     "execution_count": 51,
     "metadata": {},
     "output_type": "execute_result"
    }
   ],
   "source": [
    "df.head()"
   ]
  },
  {
   "cell_type": "code",
   "execution_count": 52,
   "metadata": {},
   "outputs": [],
   "source": [
    "df.to_csv(\"../data/Nissan.csv\", index=False)"
   ]
  },
  {
   "cell_type": "code",
   "execution_count": 53,
   "metadata": {},
   "outputs": [
    {
     "data": {
      "text/html": [
       "<div>\n",
       "<style scoped>\n",
       "    .dataframe tbody tr th:only-of-type {\n",
       "        vertical-align: middle;\n",
       "    }\n",
       "\n",
       "    .dataframe tbody tr th {\n",
       "        vertical-align: top;\n",
       "    }\n",
       "\n",
       "    .dataframe thead th {\n",
       "        text-align: right;\n",
       "    }\n",
       "</style>\n",
       "<table border=\"1\" class=\"dataframe\">\n",
       "  <thead>\n",
       "    <tr style=\"text-align: right;\">\n",
       "      <th></th>\n",
       "      <th>brand</th>\n",
       "      <th>model</th>\n",
       "      <th>year</th>\n",
       "      <th>price</th>\n",
       "      <th>mileage</th>\n",
       "      <th>exterior_color</th>\n",
       "      <th>interior_color</th>\n",
       "      <th>fuel_type</th>\n",
       "      <th>engine</th>\n",
       "      <th>transmission</th>\n",
       "      <th>city_mpg</th>\n",
       "      <th>hwy_mpg</th>\n",
       "    </tr>\n",
       "  </thead>\n",
       "  <tbody>\n",
       "    <tr>\n",
       "      <th>0</th>\n",
       "      <td>Nissan</td>\n",
       "      <td>Altima 2.5 SV</td>\n",
       "      <td>2014</td>\n",
       "      <td>10995</td>\n",
       "      <td>30720</td>\n",
       "      <td>Cayenne Red</td>\n",
       "      <td>Beige</td>\n",
       "      <td>Gasoline</td>\n",
       "      <td>2.5L I4 16V MPFI DOHC</td>\n",
       "      <td>Automatic CVT</td>\n",
       "      <td>27.0</td>\n",
       "      <td>38.0</td>\n",
       "    </tr>\n",
       "    <tr>\n",
       "      <th>1</th>\n",
       "      <td>Nissan</td>\n",
       "      <td>Altima 2.5 S</td>\n",
       "      <td>2016</td>\n",
       "      <td>11495</td>\n",
       "      <td>58742</td>\n",
       "      <td>Storm Blue</td>\n",
       "      <td>Beige</td>\n",
       "      <td>Gasoline</td>\n",
       "      <td>2.5L I4 16V MPFI DOHC</td>\n",
       "      <td>Automatic CVT</td>\n",
       "      <td>27.0</td>\n",
       "      <td>39.0</td>\n",
       "    </tr>\n",
       "    <tr>\n",
       "      <th>2</th>\n",
       "      <td>Nissan</td>\n",
       "      <td>Altima 2.5</td>\n",
       "      <td>2014</td>\n",
       "      <td>10495</td>\n",
       "      <td>71308</td>\n",
       "      <td>Gun Metallic</td>\n",
       "      <td>Dark Gray</td>\n",
       "      <td>Gasoline</td>\n",
       "      <td>2.5L I4 16V MPFI DOHC</td>\n",
       "      <td>Automatic CVT</td>\n",
       "      <td>NaN</td>\n",
       "      <td>NaN</td>\n",
       "    </tr>\n",
       "    <tr>\n",
       "      <th>3</th>\n",
       "      <td>Nissan</td>\n",
       "      <td>Altima 2.5 S</td>\n",
       "      <td>2012</td>\n",
       "      <td>7495</td>\n",
       "      <td>97159</td>\n",
       "      <td>Winter Frost Pearl</td>\n",
       "      <td>Light Brown</td>\n",
       "      <td>Gasoline</td>\n",
       "      <td>2.5L I4 16V MPFI DOHC</td>\n",
       "      <td>Automatic CVT</td>\n",
       "      <td>23.0</td>\n",
       "      <td>32.0</td>\n",
       "    </tr>\n",
       "    <tr>\n",
       "      <th>4</th>\n",
       "      <td>Nissan</td>\n",
       "      <td>Altima 2.5 S</td>\n",
       "      <td>2014</td>\n",
       "      <td>8495</td>\n",
       "      <td>107199</td>\n",
       "      <td>Brilliant Silver</td>\n",
       "      <td>Dark Gray</td>\n",
       "      <td>Gasoline</td>\n",
       "      <td>2.5L I4 16V MPFI DOHC</td>\n",
       "      <td>Automatic CVT</td>\n",
       "      <td>27.0</td>\n",
       "      <td>38.0</td>\n",
       "    </tr>\n",
       "  </tbody>\n",
       "</table>\n",
       "</div>"
      ],
      "text/plain": [
       "    brand           model  year  price mileage      exterior_color  \\\n",
       "0  Nissan   Altima 2.5 SV  2014  10995   30720         Cayenne Red   \n",
       "1  Nissan    Altima 2.5 S  2016  11495   58742          Storm Blue   \n",
       "2  Nissan      Altima 2.5  2014  10495   71308        Gun Metallic   \n",
       "3  Nissan    Altima 2.5 S  2012   7495   97159  Winter Frost Pearl   \n",
       "4  Nissan    Altima 2.5 S  2014   8495  107199    Brilliant Silver   \n",
       "\n",
       "  interior_color fuel_type                 engine   transmission  city_mpg  \\\n",
       "0          Beige  Gasoline  2.5L I4 16V MPFI DOHC  Automatic CVT      27.0   \n",
       "1          Beige  Gasoline  2.5L I4 16V MPFI DOHC  Automatic CVT      27.0   \n",
       "2      Dark Gray  Gasoline  2.5L I4 16V MPFI DOHC  Automatic CVT       NaN   \n",
       "3    Light Brown  Gasoline  2.5L I4 16V MPFI DOHC  Automatic CVT      23.0   \n",
       "4      Dark Gray  Gasoline  2.5L I4 16V MPFI DOHC  Automatic CVT      27.0   \n",
       "\n",
       "   hwy_mpg  \n",
       "0     38.0  \n",
       "1     39.0  \n",
       "2      NaN  \n",
       "3     32.0  \n",
       "4     38.0  "
      ]
     },
     "execution_count": 53,
     "metadata": {},
     "output_type": "execute_result"
    }
   ],
   "source": [
    "df_test = pd.read_csv(\"../data/Nissan.csv\")\n",
    "df_test.head()"
   ]
  },
  {
   "cell_type": "code",
   "execution_count": 54,
   "metadata": {},
   "outputs": [
    {
     "data": {
      "text/plain": [
       " Sentra S                       1399\n",
       " Sentra SV                       821\n",
       " Altima 2.5 S                    812\n",
       " Versa 1.6 SV                    389\n",
       " Altima 2.5 SV                   273\n",
       " Altima 2.5 SL                   218\n",
       " Maxima 3.5 SV                   165\n",
       " Sentra SR                       154\n",
       " Altima 2.5 SR                   154\n",
       " Maxima 3.5 S                     58\n",
       " Versa 1.6 S+                     56\n",
       " Maxima 3.5 SL                    41\n",
       " Versa 1.6 S                      41\n",
       " Maxima S                         38\n",
       " Maxima 3.5 Platinum              33\n",
       " Maxima 3.5 SR                    29\n",
       " Altima 2.5                       27\n",
       " Sentra SL                        27\n",
       " Maxima SV                        24\n",
       " Versa SV                         19\n",
       " Versa S                          18\n",
       " Sentra SR Turbo                  17\n",
       " Maxima Platinum                  17\n",
       " Altima 3.5 SL                    17\n",
       " Sentra 2.0                       12\n",
       " Sentra 2.0 S                      9\n",
       " Altima SV                         9\n",
       " Sentra 2.0 SR                     8\n",
       " Altima SL                         8\n",
       " Versa 1.6 SL                      7\n",
       " Altima 3.5 SR                     7\n",
       " Sentra FE+ S                      6\n",
       " Altima S                          5\n",
       " Maxima SR                         4\n",
       " Versa S Plus                      4\n",
       " Sentra NISMO                      4\n",
       " Versa 1.8 S                       3\n",
       " Sentra FE+ SV                     2\n",
       " Maxima 3.5 SV w/Premium Pkg       2\n",
       " Sentra                            2\n",
       " Versa 1.6                         2\n",
       " Altima 3.5 SV                     1\n",
       " Altima 2.5 Platinum               1\n",
       " Altima Hybrid Base                1\n",
       " Altima Hybrid Hybrid              1\n",
       " Sentra 2.0 SL                     1\n",
       " 370Z Base                         1\n",
       " Maxima                            1\n",
       " Maxima 3.5 SV w/Sport Pkg         1\n",
       " Rogue S                           1\n",
       " Altima                            1\n",
       " Sentra SE-R Spec V                1\n",
       " Versa                             1\n",
       "Name: model, dtype: int64"
      ]
     },
     "execution_count": 54,
     "metadata": {},
     "output_type": "execute_result"
    }
   ],
   "source": [
    "df['model'].value_counts()"
   ]
  },
  {
   "cell_type": "code",
   "execution_count": null,
   "metadata": {},
   "outputs": [],
   "source": []
  }
 ],
 "metadata": {
  "kernelspec": {
   "display_name": "Python 3",
   "language": "python",
   "name": "python3"
  },
  "language_info": {
   "codemirror_mode": {
    "name": "ipython",
    "version": 3
   },
   "file_extension": ".py",
   "mimetype": "text/x-python",
   "name": "python",
   "nbconvert_exporter": "python",
   "pygments_lexer": "ipython3",
   "version": "3.7.3"
  }
 },
 "nbformat": 4,
 "nbformat_minor": 2
}
