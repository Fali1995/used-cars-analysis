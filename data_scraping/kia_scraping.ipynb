{
 "cells": [
  {
   "cell_type": "code",
   "execution_count": 1,
   "metadata": {},
   "outputs": [],
   "source": [
    "import requests\n",
    "from bs4 import BeautifulSoup as bs\n",
    "import pandas as pd\n",
    "import  numpy as np"
   ]
  },
  {
   "cell_type": "code",
   "execution_count": 2,
   "metadata": {},
   "outputs": [],
   "source": [
    "car_urls = []\n",
    "for page in range(1,51):\n",
    "    url = f'https://www.cars.com/for-sale/searchresults.action/?bsId=20211&dealerType=all&mkId=20068&page={page}&perPage=100&rd=99999&searchSource=GN_REFINEMENT&sort=distance-nearest&stkTypId=28881&yrId=27381,34923,39723,47272,51683,56007,58487,30031936,35797618,36362520,36620293&zc=92835'\n",
    "    response = requests.get(url)\n",
    "    soup = bs(response.text, 'html.parser')\n",
    "    \n",
    "    car_links = soup.find_all('a', class_=\"shop-srp-listings__listing\")\n",
    "\n",
    "    for link in car_links:\n",
    "        car_urls.append(f'https://www.cars.com{link[\"href\"]}')"
   ]
  },
  {
   "cell_type": "code",
   "execution_count": 4,
   "metadata": {},
   "outputs": [
    {
     "data": {
      "text/plain": [
       "(5000, 5000)"
      ]
     },
     "execution_count": 4,
     "metadata": {},
     "output_type": "execute_result"
    }
   ],
   "source": [
    "s = pd.Series(car_urls)\n",
    "s.nunique(), len(s)"
   ]
  },
  {
   "cell_type": "code",
   "execution_count": 5,
   "metadata": {},
   "outputs": [],
   "source": [
    "car_data = {'title':[], 'price':[], 'mileage':[], 'exterior_color':[], 'interior_color':[], 'fuel_type':[],'engine':[], 'transmission':[], \\\n",
    "            'city_mpg':[], 'hwy_mpg':[]}\n",
    "\n",
    "for car_url in car_urls:\n",
    "    car_response = requests.get(car_url)\n",
    "\n",
    "    car_soup = bs(car_response.text, 'html.parser')\n",
    "\n",
    "    title = np.NAN\n",
    "    price = np.NAN\n",
    "    mileage = np.NAN\n",
    "    exterior = np.NAN\n",
    "    interior = np.NAN\n",
    "    fuel = np.NAN\n",
    "    engine = np.NAN\n",
    "    transmission = np.NAN\n",
    "    city = np.NAN\n",
    "    hwy = np.NAN\n",
    "    \n",
    "    if car_soup.find('h1', class_=\"vehicle-info__title\"):\n",
    "        title= car_soup.find('h1', class_=\"vehicle-info__title\").text.strip()\n",
    "        \n",
    "    if car_soup.find('div', class_=\"vehicle-info__price\"):\n",
    "        price = car_soup.find('div', class_=\"vehicle-info__price\").text.strip()\\\n",
    "            .replace('$','').replace(',','')\n",
    "        \n",
    "    car_details = car_soup.find_all(\"li\", class_=\"vdp-details-basics__item\")\n",
    "\n",
    "    for detail in car_details:\n",
    "        detail_text = detail.text.strip().split(': ')\n",
    "\n",
    "        if detail_text[0] == \"Fuel Type\":\n",
    "            fuel =  detail_text[1]\n",
    "\n",
    "        elif detail_text[0] == \"City MPG\":\n",
    "            city = detail_text[1]\n",
    "\n",
    "        elif detail_text[0] == \"Highway MPG\":\n",
    "            hwy = detail_text[1]\n",
    "\n",
    "        elif detail_text[0] == \"Engine\":\n",
    "            engine = detail_text[1]\n",
    "\n",
    "        elif detail_text[0] == \"Mileage\":\n",
    "            mileage = detail_text[1].replace(',','')\n",
    "\n",
    "        elif detail_text[0] == \"Transmission\":\n",
    "            transmission = detail_text[1]\n",
    "\n",
    "        elif detail_text[0] == \"Exterior Color\":\n",
    "            exterior = detail_text[1]\n",
    "\n",
    "        elif detail_text[0] == \"Interior Color\":\n",
    "            interior = detail_text[1]\n",
    "\n",
    "    car_data['title'].append(title) \n",
    "    car_data['price'].append(price) \n",
    "    car_data['mileage'].append(mileage) \n",
    "    car_data['exterior_color'].append(exterior)\n",
    "    car_data['interior_color'].append(interior) \n",
    "    car_data['fuel_type'].append(fuel) \n",
    "    car_data['engine'].append(engine) \n",
    "    car_data['transmission'].append(transmission) \n",
    "    car_data['city_mpg'].append(city) \n",
    "    car_data['hwy_mpg'].append(hwy)\n",
    "    "
   ]
  },
  {
   "cell_type": "code",
   "execution_count": 6,
   "metadata": {},
   "outputs": [],
   "source": [
    "df = pd.DataFrame(car_data)"
   ]
  },
  {
   "cell_type": "code",
   "execution_count": 7,
   "metadata": {},
   "outputs": [
    {
     "data": {
      "text/plain": [
       "title             4995\n",
       "price             4995\n",
       "mileage           4995\n",
       "exterior_color    4943\n",
       "interior_color    4448\n",
       "fuel_type         4995\n",
       "engine            4965\n",
       "transmission      4971\n",
       "city_mpg          4797\n",
       "hwy_mpg           4797\n",
       "dtype: int64"
      ]
     },
     "execution_count": 7,
     "metadata": {},
     "output_type": "execute_result"
    }
   ],
   "source": [
    "df.count()"
   ]
  },
  {
   "cell_type": "code",
   "execution_count": 8,
   "metadata": {},
   "outputs": [
    {
     "data": {
      "text/plain": [
       "4995"
      ]
     },
     "execution_count": 8,
     "metadata": {},
     "output_type": "execute_result"
    }
   ],
   "source": [
    "df = df.dropna(subset=['title'])\n",
    "len(df)"
   ]
  },
  {
   "cell_type": "code",
   "execution_count": 9,
   "metadata": {},
   "outputs": [],
   "source": [
    "df[\"brand\"] = \"Kia\"\n",
    "df[\"model\"] = df[\"title\"].map(lambda x: x.split('Kia')[1])\n",
    "df[\"year\"] = df[\"title\"].map(lambda x: x.replace('Certified ', '')[:4])\n",
    "\n",
    "df = df.drop('title', 1)\n",
    "\n",
    "df = df[['brand', 'model','year', 'price', 'mileage', 'exterior_color', 'interior_color', 'fuel_type',\n",
    "       'engine', 'transmission', 'city_mpg', 'hwy_mpg']]"
   ]
  },
  {
   "cell_type": "code",
   "execution_count": 10,
   "metadata": {},
   "outputs": [
    {
     "data": {
      "text/plain": [
       "array(['2013', '2016', '2018', '2019', '2015', '2014', '2017', '2012',\n",
       "       '2010', '2011'], dtype=object)"
      ]
     },
     "execution_count": 10,
     "metadata": {},
     "output_type": "execute_result"
    }
   ],
   "source": [
    "df[\"year\"].unique()"
   ]
  },
  {
   "cell_type": "code",
   "execution_count": 11,
   "metadata": {},
   "outputs": [
    {
     "data": {
      "text/html": [
       "<div>\n",
       "<style scoped>\n",
       "    .dataframe tbody tr th:only-of-type {\n",
       "        vertical-align: middle;\n",
       "    }\n",
       "\n",
       "    .dataframe tbody tr th {\n",
       "        vertical-align: top;\n",
       "    }\n",
       "\n",
       "    .dataframe thead th {\n",
       "        text-align: right;\n",
       "    }\n",
       "</style>\n",
       "<table border=\"1\" class=\"dataframe\">\n",
       "  <thead>\n",
       "    <tr style=\"text-align: right;\">\n",
       "      <th></th>\n",
       "      <th>brand</th>\n",
       "      <th>model</th>\n",
       "      <th>year</th>\n",
       "      <th>price</th>\n",
       "      <th>mileage</th>\n",
       "      <th>exterior_color</th>\n",
       "      <th>interior_color</th>\n",
       "      <th>fuel_type</th>\n",
       "      <th>engine</th>\n",
       "      <th>transmission</th>\n",
       "      <th>city_mpg</th>\n",
       "      <th>hwy_mpg</th>\n",
       "    </tr>\n",
       "  </thead>\n",
       "  <tbody>\n",
       "    <tr>\n",
       "      <th>0</th>\n",
       "      <td>Kia</td>\n",
       "      <td>Rio LX</td>\n",
       "      <td>2013</td>\n",
       "      <td>6995</td>\n",
       "      <td>68085</td>\n",
       "      <td>Black</td>\n",
       "      <td>Black</td>\n",
       "      <td>Gasoline</td>\n",
       "      <td>1.6L I4 16V GDI DOHC</td>\n",
       "      <td>6-Speed Automatic</td>\n",
       "      <td>29</td>\n",
       "      <td>37</td>\n",
       "    </tr>\n",
       "    <tr>\n",
       "      <th>1</th>\n",
       "      <td>Kia</td>\n",
       "      <td>Forte LX</td>\n",
       "      <td>2016</td>\n",
       "      <td>9995</td>\n",
       "      <td>71669</td>\n",
       "      <td>Dark Blue</td>\n",
       "      <td>Black</td>\n",
       "      <td>Gasoline</td>\n",
       "      <td>1.8L I4 16V MPFI DOHC</td>\n",
       "      <td>6-Speed Automatic</td>\n",
       "      <td>25</td>\n",
       "      <td>37</td>\n",
       "    </tr>\n",
       "    <tr>\n",
       "      <th>2</th>\n",
       "      <td>Kia</td>\n",
       "      <td>Optima EX</td>\n",
       "      <td>2013</td>\n",
       "      <td>9995</td>\n",
       "      <td>89047</td>\n",
       "      <td>NaN</td>\n",
       "      <td>NaN</td>\n",
       "      <td>Gasoline</td>\n",
       "      <td>2.4L I4 16V GDI DOHC</td>\n",
       "      <td>6-Speed Automatic</td>\n",
       "      <td>24</td>\n",
       "      <td>35</td>\n",
       "    </tr>\n",
       "    <tr>\n",
       "      <th>3</th>\n",
       "      <td>Kia</td>\n",
       "      <td>Forte EX</td>\n",
       "      <td>2013</td>\n",
       "      <td>6995</td>\n",
       "      <td>91000</td>\n",
       "      <td>Silver</td>\n",
       "      <td>Stone</td>\n",
       "      <td>Gasoline</td>\n",
       "      <td>2.0L I4 16V MPFI DOHC</td>\n",
       "      <td>6-Speed Automatic</td>\n",
       "      <td>26</td>\n",
       "      <td>36</td>\n",
       "    </tr>\n",
       "    <tr>\n",
       "      <th>4</th>\n",
       "      <td>Kia</td>\n",
       "      <td>Forte LX</td>\n",
       "      <td>2016</td>\n",
       "      <td>7995</td>\n",
       "      <td>124277</td>\n",
       "      <td>Black</td>\n",
       "      <td>Black</td>\n",
       "      <td>Gasoline</td>\n",
       "      <td>1.8L I4 16V MPFI DOHC</td>\n",
       "      <td>6-Speed Automatic</td>\n",
       "      <td>25</td>\n",
       "      <td>37</td>\n",
       "    </tr>\n",
       "  </tbody>\n",
       "</table>\n",
       "</div>"
      ],
      "text/plain": [
       "  brand       model  year price mileage exterior_color interior_color  \\\n",
       "0   Kia      Rio LX  2013  6995   68085          Black          Black   \n",
       "1   Kia    Forte LX  2016  9995   71669      Dark Blue          Black   \n",
       "2   Kia   Optima EX  2013  9995   89047            NaN            NaN   \n",
       "3   Kia    Forte EX  2013  6995   91000         Silver          Stone   \n",
       "4   Kia    Forte LX  2016  7995  124277          Black          Black   \n",
       "\n",
       "  fuel_type                 engine       transmission city_mpg hwy_mpg  \n",
       "0  Gasoline   1.6L I4 16V GDI DOHC  6-Speed Automatic       29      37  \n",
       "1  Gasoline  1.8L I4 16V MPFI DOHC  6-Speed Automatic       25      37  \n",
       "2  Gasoline   2.4L I4 16V GDI DOHC  6-Speed Automatic       24      35  \n",
       "3  Gasoline  2.0L I4 16V MPFI DOHC  6-Speed Automatic       26      36  \n",
       "4  Gasoline  1.8L I4 16V MPFI DOHC  6-Speed Automatic       25      37  "
      ]
     },
     "execution_count": 11,
     "metadata": {},
     "output_type": "execute_result"
    }
   ],
   "source": [
    "df.head()"
   ]
  },
  {
   "cell_type": "code",
   "execution_count": 12,
   "metadata": {},
   "outputs": [],
   "source": [
    "df.to_csv(\"../data/kia.csv\", index=False)"
   ]
  },
  {
   "cell_type": "code",
   "execution_count": 13,
   "metadata": {},
   "outputs": [
    {
     "data": {
      "text/html": [
       "<div>\n",
       "<style scoped>\n",
       "    .dataframe tbody tr th:only-of-type {\n",
       "        vertical-align: middle;\n",
       "    }\n",
       "\n",
       "    .dataframe tbody tr th {\n",
       "        vertical-align: top;\n",
       "    }\n",
       "\n",
       "    .dataframe thead th {\n",
       "        text-align: right;\n",
       "    }\n",
       "</style>\n",
       "<table border=\"1\" class=\"dataframe\">\n",
       "  <thead>\n",
       "    <tr style=\"text-align: right;\">\n",
       "      <th></th>\n",
       "      <th>brand</th>\n",
       "      <th>model</th>\n",
       "      <th>year</th>\n",
       "      <th>price</th>\n",
       "      <th>mileage</th>\n",
       "      <th>exterior_color</th>\n",
       "      <th>interior_color</th>\n",
       "      <th>fuel_type</th>\n",
       "      <th>engine</th>\n",
       "      <th>transmission</th>\n",
       "      <th>city_mpg</th>\n",
       "      <th>hwy_mpg</th>\n",
       "    </tr>\n",
       "  </thead>\n",
       "  <tbody>\n",
       "    <tr>\n",
       "      <th>0</th>\n",
       "      <td>Kia</td>\n",
       "      <td>Rio LX</td>\n",
       "      <td>2013</td>\n",
       "      <td>6995</td>\n",
       "      <td>68085</td>\n",
       "      <td>Black</td>\n",
       "      <td>Black</td>\n",
       "      <td>Gasoline</td>\n",
       "      <td>1.6L I4 16V GDI DOHC</td>\n",
       "      <td>6-Speed Automatic</td>\n",
       "      <td>29.0</td>\n",
       "      <td>37.0</td>\n",
       "    </tr>\n",
       "    <tr>\n",
       "      <th>1</th>\n",
       "      <td>Kia</td>\n",
       "      <td>Forte LX</td>\n",
       "      <td>2016</td>\n",
       "      <td>9995</td>\n",
       "      <td>71669</td>\n",
       "      <td>Dark Blue</td>\n",
       "      <td>Black</td>\n",
       "      <td>Gasoline</td>\n",
       "      <td>1.8L I4 16V MPFI DOHC</td>\n",
       "      <td>6-Speed Automatic</td>\n",
       "      <td>25.0</td>\n",
       "      <td>37.0</td>\n",
       "    </tr>\n",
       "    <tr>\n",
       "      <th>2</th>\n",
       "      <td>Kia</td>\n",
       "      <td>Optima EX</td>\n",
       "      <td>2013</td>\n",
       "      <td>9995</td>\n",
       "      <td>89047</td>\n",
       "      <td>NaN</td>\n",
       "      <td>NaN</td>\n",
       "      <td>Gasoline</td>\n",
       "      <td>2.4L I4 16V GDI DOHC</td>\n",
       "      <td>6-Speed Automatic</td>\n",
       "      <td>24.0</td>\n",
       "      <td>35.0</td>\n",
       "    </tr>\n",
       "    <tr>\n",
       "      <th>3</th>\n",
       "      <td>Kia</td>\n",
       "      <td>Forte EX</td>\n",
       "      <td>2013</td>\n",
       "      <td>6995</td>\n",
       "      <td>91000</td>\n",
       "      <td>Silver</td>\n",
       "      <td>Stone</td>\n",
       "      <td>Gasoline</td>\n",
       "      <td>2.0L I4 16V MPFI DOHC</td>\n",
       "      <td>6-Speed Automatic</td>\n",
       "      <td>26.0</td>\n",
       "      <td>36.0</td>\n",
       "    </tr>\n",
       "    <tr>\n",
       "      <th>4</th>\n",
       "      <td>Kia</td>\n",
       "      <td>Forte LX</td>\n",
       "      <td>2016</td>\n",
       "      <td>7995</td>\n",
       "      <td>124277</td>\n",
       "      <td>Black</td>\n",
       "      <td>Black</td>\n",
       "      <td>Gasoline</td>\n",
       "      <td>1.8L I4 16V MPFI DOHC</td>\n",
       "      <td>6-Speed Automatic</td>\n",
       "      <td>25.0</td>\n",
       "      <td>37.0</td>\n",
       "    </tr>\n",
       "  </tbody>\n",
       "</table>\n",
       "</div>"
      ],
      "text/plain": [
       "  brand       model  year price  mileage exterior_color interior_color  \\\n",
       "0   Kia      Rio LX  2013  6995    68085          Black          Black   \n",
       "1   Kia    Forte LX  2016  9995    71669      Dark Blue          Black   \n",
       "2   Kia   Optima EX  2013  9995    89047            NaN            NaN   \n",
       "3   Kia    Forte EX  2013  6995    91000         Silver          Stone   \n",
       "4   Kia    Forte LX  2016  7995   124277          Black          Black   \n",
       "\n",
       "  fuel_type                 engine       transmission  city_mpg  hwy_mpg  \n",
       "0  Gasoline   1.6L I4 16V GDI DOHC  6-Speed Automatic      29.0     37.0  \n",
       "1  Gasoline  1.8L I4 16V MPFI DOHC  6-Speed Automatic      25.0     37.0  \n",
       "2  Gasoline   2.4L I4 16V GDI DOHC  6-Speed Automatic      24.0     35.0  \n",
       "3  Gasoline  2.0L I4 16V MPFI DOHC  6-Speed Automatic      26.0     36.0  \n",
       "4  Gasoline  1.8L I4 16V MPFI DOHC  6-Speed Automatic      25.0     37.0  "
      ]
     },
     "execution_count": 13,
     "metadata": {},
     "output_type": "execute_result"
    }
   ],
   "source": [
    "df_test = pd.read_csv(\"../data/kia.csv\")\n",
    "df_test.head()"
   ]
  },
  {
   "cell_type": "code",
   "execution_count": 14,
   "metadata": {},
   "outputs": [
    {
     "data": {
      "text/plain": [
       " Optima LX                            1483\n",
       " Forte LX                              773\n",
       " Optima EX                             762\n",
       " Rio LX                                187\n",
       " Forte EX                              179\n",
       " Optima SX Turbo                       167\n",
       " Optima SX                             152\n",
       " Forte LXS                             144\n",
       " Cadenza Premium                       123\n",
       " Optima SXL Turbo                      102\n",
       " Optima Hybrid EX                       94\n",
       " Rio S                                  89\n",
       " K900 Luxury 3.8L                       66\n",
       " Stinger GT2                            56\n",
       " Optima Plug-In Hybrid EX               53\n",
       " K900 Luxury                            51\n",
       " Optima S                               47\n",
       " Forte S                                46\n",
       " Optima Hybrid Base                     36\n",
       " Stinger Premium                        30\n",
       " Optima LX Turbo                        28\n",
       " Stinger Base                           27\n",
       " Cadenza SX Limited                     26\n",
       " Optima Hybrid LX                       23\n",
       " Optima Hybrid                          21\n",
       " Optima SXL                             17\n",
       " Rio EX                                 16\n",
       " Forte FE                               15\n",
       " Optima                                 13\n",
       " K900 Premium                           13\n",
       "                                      ... \n",
       " Stinger Premium Collection              2\n",
       " Forte                                   2\n",
       " Cadenza 4dr Sdn Premium                 1\n",
       " Rio Base                                1\n",
       " Optima SX 2.0T LIMITED                  1\n",
       " Optima Hybrid BASE                      1\n",
       " K900 Luxury 5.0L                        1\n",
       " Forte BACKUP                            1\n",
       " Optima LIMITED                          1\n",
       " Optima Hybrid EX W/NAVIGATION           1\n",
       " Stinger BASE                            1\n",
       " Optima LX-BOB HOWARD 405-936-8600       1\n",
       " Optima EX Turbo                         1\n",
       " Optima LX 2.4                           1\n",
       " K900 PREMIUM                            1\n",
       " Cadenza Limited 4dr Sedan               1\n",
       " Optima SX 2.0T                          1\n",
       " Optima 4DR SDN SX TURBO                 1\n",
       " Optima EX Hybrid                        1\n",
       " Stinger GT2 AWD                         1\n",
       " Optima SX w/Chrome Limited Pkg          1\n",
       " Optima SX-L PANORAMIC SUNROOF           1\n",
       " K900 LUXURY V6                          1\n",
       " Cadenza Base                            1\n",
       " Optima EX 2.4                           1\n",
       " Optima Hybrid FWD                       1\n",
       " Forte LX POPULAR                        1\n",
       " Forte EX SEDAN                          1\n",
       " Optima LX+                              1\n",
       " Optima EX HYBRID                        1\n",
       "Name: model, Length: 84, dtype: int64"
      ]
     },
     "execution_count": 14,
     "metadata": {},
     "output_type": "execute_result"
    }
   ],
   "source": [
    "df['model'].value_counts()"
   ]
  },
  {
   "cell_type": "code",
   "execution_count": null,
   "metadata": {},
   "outputs": [],
   "source": []
  }
 ],
 "metadata": {
  "kernelspec": {
   "display_name": "Python 3",
   "language": "python",
   "name": "python3"
  },
  "language_info": {
   "codemirror_mode": {
    "name": "ipython",
    "version": 3
   },
   "file_extension": ".py",
   "mimetype": "text/x-python",
   "name": "python",
   "nbconvert_exporter": "python",
   "pygments_lexer": "ipython3",
   "version": "3.7.3"
  }
 },
 "nbformat": 4,
 "nbformat_minor": 2
}
